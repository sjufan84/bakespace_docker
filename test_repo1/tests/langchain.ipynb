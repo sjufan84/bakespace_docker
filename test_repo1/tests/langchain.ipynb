{
 "cells": [
  {
   "cell_type": "code",
   "execution_count": 1,
   "metadata": {},
   "outputs": [
    {
     "name": "stderr",
     "output_type": "stream",
     "text": [
      "c:\\Users\\sjufa\\anaconda3\\envs\\py39\\lib\\site-packages\\pinecone\\index.py:4: TqdmExperimentalWarning: Using `tqdm.autonotebook.tqdm` in notebook mode. Use `tqdm.tqdm` instead to force console mode (e.g. in jupyter console)\n",
      "  from tqdm.autonotebook import tqdm\n"
     ]
    }
   ],
   "source": [
    "from pathlib import Path\n",
    "root_dir = Path('../../streamlined_wireframes/')\n",
    "import os\n",
    "## Creating a language chain that can help take a github repo and other documentation and create a language chain that can reference those documents when needed.\n",
    "from langchain.document_loaders import TextLoader\n",
    "from langchain.text_splitter import (\n",
    "    RecursiveCharacterTextSplitter, \n",
    "    Language,\n",
    ")\n",
    "import pinecone\n",
    "from langchain.vectorstores import Pinecone\n",
    "from langchain.embeddings.openai import OpenAIEmbeddings\n",
    "import os\n",
    "from dotenv import load_dotenv\n",
    "import openai\n",
    "load_dotenv()\n",
    "\n",
    "# Get OpenAI and Pinecone API keys\n",
    "openai.api_key = os.getenv(\"OPENAI_API_KEY\")\n",
    "pinecone_api_key = os.getenv(\"PINECONE_KEY\")\n",
    "openai.organization = os.getenv(\"OPENAI_ORG\")\n",
    "pinecone_env = os.getenv(\"PINECONE_ENV\")\n",
    "\n",
    "# Initialize Pinecone\n",
    "pinecone.init(api_key=pinecone_api_key, environment=pinecone_env)\n",
    "\n",
    "\n",
    "\n"
   ]
  },
  {
   "cell_type": "code",
   "execution_count": 2,
   "metadata": {},
   "outputs": [
    {
     "name": "stdout",
     "output_type": "stream",
     "text": [
      "develop\n"
     ]
    }
   ],
   "source": [
    "from git import Repo\n",
    "\n",
    "url = \"https://github.com/streamlit/streamlit\"\n",
    "repo = Repo.clone_from(url, to_path=f\"./example_data/test_repo1\")\n",
    "branch = repo.head.reference\n",
    "print(branch.name)\n"
   ]
  },
  {
   "cell_type": "code",
   "execution_count": 3,
   "metadata": {},
   "outputs": [
    {
     "name": "stdout",
     "output_type": "stream",
     "text": [
      "4625\n"
     ]
    }
   ],
   "source": [
    "root_dir = \"./example_data/test_repo1\"\n",
    "\n",
    "\n",
    "docs = []\n",
    "\n",
    "python_splitter = RecursiveCharacterTextSplitter.from_language(\n",
    "    language=Language.PYTHON, chunk_size = 1000, chunk_overlap = 15\n",
    ")\n",
    "for dirpath, dirnames, filenames in os.walk(root_dir):\n",
    "    for file in filenames:\n",
    "        if file.endswith(\".py\") and \"/.venv/\" not in dirpath:\n",
    "            try:\n",
    "                loader = TextLoader(os.path.join(dirpath, file), encoding=\"utf-8\")\n",
    "                docs.extend(loader.load_and_split(text_splitter=python_splitter))\n",
    "            except Exception as e:\n",
    "                pass\n",
    "print(f\"{len(docs)}\")"
   ]
  },
  {
   "cell_type": "code",
   "execution_count": 4,
   "metadata": {},
   "outputs": [
    {
     "name": "stdout",
     "output_type": "stream",
     "text": [
      "4625\n"
     ]
    }
   ],
   "source": [
    "text_splitter = RecursiveCharacterTextSplitter(\n",
    "    chunk_size=1000, chunk_overlap=15\n",
    "    )\n",
    "\n",
    "texts = text_splitter.split_documents(docs)\n",
    "print(f\"{len(texts)}\")"
   ]
  },
  {
   "attachments": {},
   "cell_type": "markdown",
   "metadata": {},
   "source": []
  },
  {
   "cell_type": "code",
   "execution_count": 68,
   "metadata": {},
   "outputs": [],
   "source": [
    "# Create the embeddings object\n",
    "embeddings = OpenAIEmbeddings(\n",
    "    openai_api_key = openai.api_key,\n",
    "    openai_organization= openai.organization\n",
    ")"
   ]
  },
  {
   "cell_type": "code",
   "execution_count": 78,
   "metadata": {},
   "outputs": [],
   "source": [
    "from langchain.document_loaders import PyPDFLoader\n",
    "\n",
    "pdf_loader = PyPDFLoader(\n",
    "    file_path=\"./bakespace_api.pdf\",\n",
    ")\n",
    "text_splitter = RecursiveCharacterTextSplitter(\n",
    "    chunk_size = 1000, chunk_overlap = 15\n",
    ")"
   ]
  },
  {
   "cell_type": "code",
   "execution_count": 79,
   "metadata": {},
   "outputs": [],
   "source": [
    "pages = pdf_loader.load_and_split(text_splitter=text_splitter)"
   ]
  },
  {
   "cell_type": "code",
   "execution_count": 80,
   "metadata": {},
   "outputs": [],
   "source": [
    "docs = pages"
   ]
  },
  {
   "cell_type": "code",
   "execution_count": 89,
   "metadata": {},
   "outputs": [],
   "source": [
    "# Connect to the Pinecone vector store\n",
    "index = pinecone.GRPCIndex('code-llm')"
   ]
  },
  {
   "cell_type": "code",
   "execution_count": 82,
   "metadata": {},
   "outputs": [],
   "source": [
    "for i, doc in enumerate(docs):\n",
    "    doc.metadata[\"id\"] = f'Bakespace_{i}'\n",
    "    doc.metadata['type'] = 'PDF / XML'\n",
    "    doc.metadata['repo'] = 'Bakespace API'\n",
    "\n"
   ]
  },
  {
   "cell_type": "code",
   "execution_count": 83,
   "metadata": {},
   "outputs": [],
   "source": [
    "texts = []\n",
    "for doc in docs:\n",
    "    texts.append(doc.page_content)"
   ]
  },
  {
   "cell_type": "code",
   "execution_count": 84,
   "metadata": {},
   "outputs": [
    {
     "name": "stderr",
     "output_type": "stream",
     "text": [
      "Retrying langchain.embeddings.openai.embed_with_retry.<locals>._embed_with_retry in 4.0 seconds as it raised APIConnectionError: Error communicating with OpenAI: ('Connection aborted.', ConnectionResetError(10054, 'An existing connection was forcibly closed by the remote host', None, 10054, None)).\n"
     ]
    }
   ],
   "source": [
    "vectors=embeddings.embed_documents(texts)"
   ]
  },
  {
   "cell_type": "code",
   "execution_count": 85,
   "metadata": {},
   "outputs": [
    {
     "data": {
      "text/plain": [
       "(39, 1536)"
      ]
     },
     "execution_count": 85,
     "metadata": {},
     "output_type": "execute_result"
    }
   ],
   "source": [
    "len(vectors), len(vectors[0])"
   ]
  },
  {
   "cell_type": "code",
   "execution_count": 86,
   "metadata": {},
   "outputs": [
    {
     "name": "stderr",
     "output_type": "stream",
     "text": [
      "C:\\Users\\sjufa\\AppData\\Local\\Temp\\ipykernel_26836\\464683487.py:9: FutureWarning: The frame.append method is deprecated and will be removed from pandas in a future version. Use pandas.concat instead.\n",
      "  df = df.append(\n",
      "C:\\Users\\sjufa\\AppData\\Local\\Temp\\ipykernel_26836\\464683487.py:9: FutureWarning: The frame.append method is deprecated and will be removed from pandas in a future version. Use pandas.concat instead.\n",
      "  df = df.append(\n",
      "C:\\Users\\sjufa\\AppData\\Local\\Temp\\ipykernel_26836\\464683487.py:9: FutureWarning: The frame.append method is deprecated and will be removed from pandas in a future version. Use pandas.concat instead.\n",
      "  df = df.append(\n",
      "C:\\Users\\sjufa\\AppData\\Local\\Temp\\ipykernel_26836\\464683487.py:9: FutureWarning: The frame.append method is deprecated and will be removed from pandas in a future version. Use pandas.concat instead.\n",
      "  df = df.append(\n",
      "C:\\Users\\sjufa\\AppData\\Local\\Temp\\ipykernel_26836\\464683487.py:9: FutureWarning: The frame.append method is deprecated and will be removed from pandas in a future version. Use pandas.concat instead.\n",
      "  df = df.append(\n",
      "C:\\Users\\sjufa\\AppData\\Local\\Temp\\ipykernel_26836\\464683487.py:9: FutureWarning: The frame.append method is deprecated and will be removed from pandas in a future version. Use pandas.concat instead.\n",
      "  df = df.append(\n",
      "C:\\Users\\sjufa\\AppData\\Local\\Temp\\ipykernel_26836\\464683487.py:9: FutureWarning: The frame.append method is deprecated and will be removed from pandas in a future version. Use pandas.concat instead.\n",
      "  df = df.append(\n",
      "C:\\Users\\sjufa\\AppData\\Local\\Temp\\ipykernel_26836\\464683487.py:9: FutureWarning: The frame.append method is deprecated and will be removed from pandas in a future version. Use pandas.concat instead.\n",
      "  df = df.append(\n",
      "C:\\Users\\sjufa\\AppData\\Local\\Temp\\ipykernel_26836\\464683487.py:9: FutureWarning: The frame.append method is deprecated and will be removed from pandas in a future version. Use pandas.concat instead.\n",
      "  df = df.append(\n",
      "C:\\Users\\sjufa\\AppData\\Local\\Temp\\ipykernel_26836\\464683487.py:9: FutureWarning: The frame.append method is deprecated and will be removed from pandas in a future version. Use pandas.concat instead.\n",
      "  df = df.append(\n",
      "C:\\Users\\sjufa\\AppData\\Local\\Temp\\ipykernel_26836\\464683487.py:9: FutureWarning: The frame.append method is deprecated and will be removed from pandas in a future version. Use pandas.concat instead.\n",
      "  df = df.append(\n",
      "C:\\Users\\sjufa\\AppData\\Local\\Temp\\ipykernel_26836\\464683487.py:9: FutureWarning: The frame.append method is deprecated and will be removed from pandas in a future version. Use pandas.concat instead.\n",
      "  df = df.append(\n",
      "C:\\Users\\sjufa\\AppData\\Local\\Temp\\ipykernel_26836\\464683487.py:9: FutureWarning: The frame.append method is deprecated and will be removed from pandas in a future version. Use pandas.concat instead.\n",
      "  df = df.append(\n",
      "C:\\Users\\sjufa\\AppData\\Local\\Temp\\ipykernel_26836\\464683487.py:9: FutureWarning: The frame.append method is deprecated and will be removed from pandas in a future version. Use pandas.concat instead.\n",
      "  df = df.append(\n",
      "C:\\Users\\sjufa\\AppData\\Local\\Temp\\ipykernel_26836\\464683487.py:9: FutureWarning: The frame.append method is deprecated and will be removed from pandas in a future version. Use pandas.concat instead.\n",
      "  df = df.append(\n",
      "C:\\Users\\sjufa\\AppData\\Local\\Temp\\ipykernel_26836\\464683487.py:9: FutureWarning: The frame.append method is deprecated and will be removed from pandas in a future version. Use pandas.concat instead.\n",
      "  df = df.append(\n",
      "C:\\Users\\sjufa\\AppData\\Local\\Temp\\ipykernel_26836\\464683487.py:9: FutureWarning: The frame.append method is deprecated and will be removed from pandas in a future version. Use pandas.concat instead.\n",
      "  df = df.append(\n",
      "C:\\Users\\sjufa\\AppData\\Local\\Temp\\ipykernel_26836\\464683487.py:9: FutureWarning: The frame.append method is deprecated and will be removed from pandas in a future version. Use pandas.concat instead.\n",
      "  df = df.append(\n",
      "C:\\Users\\sjufa\\AppData\\Local\\Temp\\ipykernel_26836\\464683487.py:9: FutureWarning: The frame.append method is deprecated and will be removed from pandas in a future version. Use pandas.concat instead.\n",
      "  df = df.append(\n",
      "C:\\Users\\sjufa\\AppData\\Local\\Temp\\ipykernel_26836\\464683487.py:9: FutureWarning: The frame.append method is deprecated and will be removed from pandas in a future version. Use pandas.concat instead.\n",
      "  df = df.append(\n",
      "C:\\Users\\sjufa\\AppData\\Local\\Temp\\ipykernel_26836\\464683487.py:9: FutureWarning: The frame.append method is deprecated and will be removed from pandas in a future version. Use pandas.concat instead.\n",
      "  df = df.append(\n",
      "C:\\Users\\sjufa\\AppData\\Local\\Temp\\ipykernel_26836\\464683487.py:9: FutureWarning: The frame.append method is deprecated and will be removed from pandas in a future version. Use pandas.concat instead.\n",
      "  df = df.append(\n",
      "C:\\Users\\sjufa\\AppData\\Local\\Temp\\ipykernel_26836\\464683487.py:9: FutureWarning: The frame.append method is deprecated and will be removed from pandas in a future version. Use pandas.concat instead.\n",
      "  df = df.append(\n",
      "C:\\Users\\sjufa\\AppData\\Local\\Temp\\ipykernel_26836\\464683487.py:9: FutureWarning: The frame.append method is deprecated and will be removed from pandas in a future version. Use pandas.concat instead.\n",
      "  df = df.append(\n",
      "C:\\Users\\sjufa\\AppData\\Local\\Temp\\ipykernel_26836\\464683487.py:9: FutureWarning: The frame.append method is deprecated and will be removed from pandas in a future version. Use pandas.concat instead.\n",
      "  df = df.append(\n",
      "C:\\Users\\sjufa\\AppData\\Local\\Temp\\ipykernel_26836\\464683487.py:9: FutureWarning: The frame.append method is deprecated and will be removed from pandas in a future version. Use pandas.concat instead.\n",
      "  df = df.append(\n",
      "C:\\Users\\sjufa\\AppData\\Local\\Temp\\ipykernel_26836\\464683487.py:9: FutureWarning: The frame.append method is deprecated and will be removed from pandas in a future version. Use pandas.concat instead.\n",
      "  df = df.append(\n",
      "C:\\Users\\sjufa\\AppData\\Local\\Temp\\ipykernel_26836\\464683487.py:9: FutureWarning: The frame.append method is deprecated and will be removed from pandas in a future version. Use pandas.concat instead.\n",
      "  df = df.append(\n",
      "C:\\Users\\sjufa\\AppData\\Local\\Temp\\ipykernel_26836\\464683487.py:9: FutureWarning: The frame.append method is deprecated and will be removed from pandas in a future version. Use pandas.concat instead.\n",
      "  df = df.append(\n",
      "C:\\Users\\sjufa\\AppData\\Local\\Temp\\ipykernel_26836\\464683487.py:9: FutureWarning: The frame.append method is deprecated and will be removed from pandas in a future version. Use pandas.concat instead.\n",
      "  df = df.append(\n",
      "C:\\Users\\sjufa\\AppData\\Local\\Temp\\ipykernel_26836\\464683487.py:9: FutureWarning: The frame.append method is deprecated and will be removed from pandas in a future version. Use pandas.concat instead.\n",
      "  df = df.append(\n",
      "C:\\Users\\sjufa\\AppData\\Local\\Temp\\ipykernel_26836\\464683487.py:9: FutureWarning: The frame.append method is deprecated and will be removed from pandas in a future version. Use pandas.concat instead.\n",
      "  df = df.append(\n",
      "C:\\Users\\sjufa\\AppData\\Local\\Temp\\ipykernel_26836\\464683487.py:9: FutureWarning: The frame.append method is deprecated and will be removed from pandas in a future version. Use pandas.concat instead.\n",
      "  df = df.append(\n",
      "C:\\Users\\sjufa\\AppData\\Local\\Temp\\ipykernel_26836\\464683487.py:9: FutureWarning: The frame.append method is deprecated and will be removed from pandas in a future version. Use pandas.concat instead.\n",
      "  df = df.append(\n",
      "C:\\Users\\sjufa\\AppData\\Local\\Temp\\ipykernel_26836\\464683487.py:9: FutureWarning: The frame.append method is deprecated and will be removed from pandas in a future version. Use pandas.concat instead.\n",
      "  df = df.append(\n",
      "C:\\Users\\sjufa\\AppData\\Local\\Temp\\ipykernel_26836\\464683487.py:9: FutureWarning: The frame.append method is deprecated and will be removed from pandas in a future version. Use pandas.concat instead.\n",
      "  df = df.append(\n",
      "C:\\Users\\sjufa\\AppData\\Local\\Temp\\ipykernel_26836\\464683487.py:9: FutureWarning: The frame.append method is deprecated and will be removed from pandas in a future version. Use pandas.concat instead.\n",
      "  df = df.append(\n",
      "C:\\Users\\sjufa\\AppData\\Local\\Temp\\ipykernel_26836\\464683487.py:9: FutureWarning: The frame.append method is deprecated and will be removed from pandas in a future version. Use pandas.concat instead.\n",
      "  df = df.append(\n",
      "C:\\Users\\sjufa\\AppData\\Local\\Temp\\ipykernel_26836\\464683487.py:9: FutureWarning: The frame.append method is deprecated and will be removed from pandas in a future version. Use pandas.concat instead.\n",
      "  df = df.append(\n"
     ]
    }
   ],
   "source": [
    "# Create a new dataframe from the doc data\n",
    "import pandas as pd\n",
    "\n",
    "# Set the columns to \"text\", \"id\", \"metadata\"\n",
    "df = pd.DataFrame(columns=[\"values\", \"id\", \"metadata\"])\n",
    "\n",
    "# Loop through the docs and set the values for each column\n",
    "for i, doc in enumerate(docs):\n",
    "    df = df.append(\n",
    "        {\n",
    "            \"values\": vectors[i],\n",
    "            \"id\": doc.metadata[\"id\"],\n",
    "            \"metadata\": doc.metadata,\n",
    "        },\n",
    "        ignore_index=True,\n",
    "    )"
   ]
  },
  {
   "cell_type": "code",
   "execution_count": 87,
   "metadata": {},
   "outputs": [
    {
     "data": {
      "text/html": [
       "<div>\n",
       "<style scoped>\n",
       "    .dataframe tbody tr th:only-of-type {\n",
       "        vertical-align: middle;\n",
       "    }\n",
       "\n",
       "    .dataframe tbody tr th {\n",
       "        vertical-align: top;\n",
       "    }\n",
       "\n",
       "    .dataframe thead th {\n",
       "        text-align: right;\n",
       "    }\n",
       "</style>\n",
       "<table border=\"1\" class=\"dataframe\">\n",
       "  <thead>\n",
       "    <tr style=\"text-align: right;\">\n",
       "      <th></th>\n",
       "      <th>values</th>\n",
       "      <th>id</th>\n",
       "      <th>metadata</th>\n",
       "    </tr>\n",
       "  </thead>\n",
       "  <tbody>\n",
       "    <tr>\n",
       "      <th>0</th>\n",
       "      <td>[0.013707088936454722, 0.013427779695556452, 0...</td>\n",
       "      <td>Bakespace_0</td>\n",
       "      <td>{'source': './bakespace_api.pdf', 'page': 0, '...</td>\n",
       "    </tr>\n",
       "    <tr>\n",
       "      <th>1</th>\n",
       "      <td>[-0.011386240434354072, 0.023548186928008977, ...</td>\n",
       "      <td>Bakespace_1</td>\n",
       "      <td>{'source': './bakespace_api.pdf', 'page': 0, '...</td>\n",
       "    </tr>\n",
       "    <tr>\n",
       "      <th>2</th>\n",
       "      <td>[0.0006587831557177874, 0.0036708665097053145,...</td>\n",
       "      <td>Bakespace_2</td>\n",
       "      <td>{'source': './bakespace_api.pdf', 'page': 1, '...</td>\n",
       "    </tr>\n",
       "    <tr>\n",
       "      <th>3</th>\n",
       "      <td>[0.002096409684365405, -0.010518363715944229, ...</td>\n",
       "      <td>Bakespace_3</td>\n",
       "      <td>{'source': './bakespace_api.pdf', 'page': 1, '...</td>\n",
       "    </tr>\n",
       "    <tr>\n",
       "      <th>4</th>\n",
       "      <td>[0.007804707419193777, -0.005885352577264909, ...</td>\n",
       "      <td>Bakespace_4</td>\n",
       "      <td>{'source': './bakespace_api.pdf', 'page': 1, '...</td>\n",
       "    </tr>\n",
       "  </tbody>\n",
       "</table>\n",
       "</div>"
      ],
      "text/plain": [
       "                                              values           id  \\\n",
       "0  [0.013707088936454722, 0.013427779695556452, 0...  Bakespace_0   \n",
       "1  [-0.011386240434354072, 0.023548186928008977, ...  Bakespace_1   \n",
       "2  [0.0006587831557177874, 0.0036708665097053145,...  Bakespace_2   \n",
       "3  [0.002096409684365405, -0.010518363715944229, ...  Bakespace_3   \n",
       "4  [0.007804707419193777, -0.005885352577264909, ...  Bakespace_4   \n",
       "\n",
       "                                            metadata  \n",
       "0  {'source': './bakespace_api.pdf', 'page': 0, '...  \n",
       "1  {'source': './bakespace_api.pdf', 'page': 0, '...  \n",
       "2  {'source': './bakespace_api.pdf', 'page': 1, '...  \n",
       "3  {'source': './bakespace_api.pdf', 'page': 1, '...  \n",
       "4  {'source': './bakespace_api.pdf', 'page': 1, '...  "
      ]
     },
     "execution_count": 87,
     "metadata": {},
     "output_type": "execute_result"
    }
   ],
   "source": [
    "df.head()"
   ]
  },
  {
   "cell_type": "code",
   "execution_count": 90,
   "metadata": {},
   "outputs": [
    {
     "data": {
      "application/vnd.jupyter.widget-view+json": {
       "model_id": "d846f3a0df8b4584b582f791e6933af6",
       "version_major": 2,
       "version_minor": 0
      },
      "text/plain": [
       "sending upsert requests:   0%|          | 0/39 [00:00<?, ?it/s]"
      ]
     },
     "metadata": {},
     "output_type": "display_data"
    },
    {
     "data": {
      "application/vnd.jupyter.widget-view+json": {
       "model_id": "ac545bea6a0347cb91e1ae972517dd52",
       "version_major": 2,
       "version_minor": 0
      },
      "text/plain": [
       "collecting async responses:   0%|          | 0/1 [00:00<?, ?it/s]"
      ]
     },
     "metadata": {},
     "output_type": "display_data"
    },
    {
     "data": {
      "text/plain": [
       "upserted_count: 39"
      ]
     },
     "execution_count": 90,
     "metadata": {},
     "output_type": "execute_result"
    }
   ],
   "source": [
    "index.upsert_from_dataframe(df, batch_size=50)"
   ]
  },
  {
   "cell_type": "code",
   "execution_count": 91,
   "metadata": {},
   "outputs": [
    {
     "data": {
      "text/plain": [
       "{'dimension': 1536,\n",
       " 'index_fullness': 0.3,\n",
       " 'namespaces': {'': {'vector_count': 27173}},\n",
       " 'total_vector_count': 27173}"
      ]
     },
     "execution_count": 91,
     "metadata": {},
     "output_type": "execute_result"
    }
   ],
   "source": [
    "index.describe_index_stats()"
   ]
  },
  {
   "cell_type": "code",
   "execution_count": 95,
   "metadata": {},
   "outputs": [],
   "source": [
    "vectorstore = Pinecone.from_existing_index(index_name=\"code-llm\", embedding = embeddings)"
   ]
  },
  {
   "cell_type": "code",
   "execution_count": 97,
   "metadata": {},
   "outputs": [
    {
     "name": "stderr",
     "output_type": "stream",
     "text": [
      "Retrying langchain.embeddings.openai.embed_with_retry.<locals>._embed_with_retry in 4.0 seconds as it raised APIConnectionError: Error communicating with OpenAI: ('Connection aborted.', ConnectionResetError(10054, 'An existing connection was forcibly closed by the remote host', None, 10054, None)).\n",
      "Found document with no `text` key. Skipping.\n",
      "Found document with no `text` key. Skipping.\n",
      "Found document with no `text` key. Skipping.\n",
      "Found document with no `text` key. Skipping.\n",
      "Found document with no `text` key. Skipping.\n"
     ]
    },
    {
     "data": {
      "text/plain": [
       "[]"
      ]
     },
     "execution_count": 97,
     "metadata": {},
     "output_type": "execute_result"
    }
   ],
   "source": [
    "query = \"what does the generate_cocktail function do?\"\n",
    "\n",
    "vectorstore.similarity_search(query, k=5)"
   ]
  },
  {
   "cell_type": "code",
   "execution_count": null,
   "metadata": {},
   "outputs": [],
   "source": []
  }
 ],
 "metadata": {
  "kernelspec": {
   "display_name": "py39",
   "language": "python",
   "name": "python3"
  },
  "language_info": {
   "codemirror_mode": {
    "name": "ipython",
    "version": 3
   },
   "file_extension": ".py",
   "mimetype": "text/x-python",
   "name": "python",
   "nbconvert_exporter": "python",
   "pygments_lexer": "ipython3",
   "version": "3.9.15"
  },
  "orig_nbformat": 4
 },
 "nbformat": 4,
 "nbformat_minor": 2
}
