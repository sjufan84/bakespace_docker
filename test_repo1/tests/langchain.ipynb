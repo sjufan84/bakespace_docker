{
 "cells": [
  {
   "cell_type": "code",
   "execution_count": 2,
   "metadata": {},
   "outputs": [],
   "source": [
    "from pathlib import Path\n",
    "import os\n",
    "## Creating a language chain that can help take a github repo and other documentation and create a language chain that can reference those documents when needed.\n",
    "from langchain.document_loaders import TextLoader\n",
    "from langchain.text_splitter import (\n",
    "    RecursiveCharacterTextSplitter, \n",
    "    Language,\n",
    ")\n",
    "import pinecone\n",
    "from langchain.vectorstores import Pinecone\n",
    "from langchain.embeddings.openai import OpenAIEmbeddings\n",
    "import os\n",
    "from dotenv import load_dotenv\n",
    "import openai\n",
    "load_dotenv()\n",
    "\n",
    "# Get OpenAI and Pinecone API keys\n",
    "openai.api_key = os.getenv(\"OPENAI_API_KEY\")\n",
    "pinecone_api_key = os.getenv(\"PINECONE_KEY\")\n",
    "openai.organization = os.getenv(\"OPENAI_ORG\")\n",
    "pinecone_env = os.getenv(\"PINECONE_ENV\")\n",
    "\n",
    "# Initialize Pinecone\n",
    "pinecone.init(api_key=pinecone_api_key, environment=pinecone_env)\n",
    "\n",
    "\n",
    "\n"
   ]
  },
  {
   "cell_type": "code",
   "execution_count": 50,
   "metadata": {},
   "outputs": [
    {
     "name": "stdout",
     "output_type": "stream",
     "text": [
      "main\n"
     ]
    }
   ],
   "source": [
    "from git import Repo\n",
    "\n",
    "url = \"https://github.com/openai/openai-python\"\n",
    "repo = Repo.clone_from(url, to_path=f\"./example_data/test_repo1\")\n",
    "branch = repo.head.reference\n",
    "print(branch.name)\n"
   ]
  },
  {
   "cell_type": "code",
   "execution_count": 51,
   "metadata": {},
   "outputs": [
    {
     "name": "stdout",
     "output_type": "stream",
     "text": [
      "361\n"
     ]
    }
   ],
   "source": [
    "root_dir = './example_data/test_repo1/'\n",
    "\n",
    "\n",
    "docs = []\n",
    "\n",
    "python_splitter = RecursiveCharacterTextSplitter.from_language(\n",
    "    language=Language.PYTHON, chunk_size = 1000, chunk_overlap = 15\n",
    ")\n",
    "for dirpath, dirnames, filenames in os.walk(root_dir):\n",
    "    for file in filenames:\n",
    "        if file.endswith(\".py\") and \"/.venv/\" not in dirpath:\n",
    "            try:\n",
    "                loader = TextLoader(os.path.join(dirpath, file), encoding=\"utf-8\")\n",
    "                docs.extend(loader.load_and_split(text_splitter=python_splitter))\n",
    "            except Exception as e:\n",
    "                pass\n",
    "print(f\"{len(docs)}\")"
   ]
  },
  {
   "cell_type": "code",
   "execution_count": 4,
   "metadata": {},
   "outputs": [],
   "source": [
    "text_splitter = RecursiveCharacterTextSplitter(\n",
    "    chunk_size=1000, chunk_overlap=15\n",
    "    )"
   ]
  },
  {
   "attachments": {},
   "cell_type": "markdown",
   "metadata": {},
   "source": []
  },
  {
   "cell_type": "code",
   "execution_count": 5,
   "metadata": {},
   "outputs": [],
   "source": [
    "# Create the embeddings object\n",
    "embeddings = OpenAIEmbeddings(\n",
    "    openai_api_key = openai.api_key,\n",
    "    openai_organization= openai.organization\n",
    ")"
   ]
  },
  {
   "cell_type": "code",
   "execution_count": 6,
   "metadata": {},
   "outputs": [],
   "source": [
    "from langchain.document_loaders import PyPDFLoader\n",
    "\n",
    "pdf_loader = PyPDFLoader(\n",
    "    file_path=\"./bakespace_api.pdf\",\n",
    ")\n",
    "text_splitter = RecursiveCharacterTextSplitter(\n",
    "    chunk_size = 1000, chunk_overlap = 15\n",
    ")"
   ]
  },
  {
   "cell_type": "code",
   "execution_count": 7,
   "metadata": {},
   "outputs": [],
   "source": [
    "pages = pdf_loader.load_and_split(text_splitter=text_splitter)"
   ]
  },
  {
   "cell_type": "code",
   "execution_count": 8,
   "metadata": {},
   "outputs": [],
   "source": [
    "docs = pages"
   ]
  },
  {
   "cell_type": "code",
   "execution_count": 9,
   "metadata": {},
   "outputs": [],
   "source": [
    "# Connect to the Pinecone vector store\n",
    "index = pinecone.GRPCIndex('dave-code')"
   ]
  },
  {
   "cell_type": "code",
   "execution_count": 10,
   "metadata": {},
   "outputs": [],
   "source": [
    "for i, doc in enumerate(docs):\n",
    "    doc.metadata[\"id\"] = f'Bakespace_API_{i}'\n",
    "    doc.metadata['type'] = 'PDF'\n",
    "    doc.metadata['repo'] = 'Bakespace_API'\n",
    "\n"
   ]
  },
  {
   "cell_type": "code",
   "execution_count": 11,
   "metadata": {},
   "outputs": [],
   "source": [
    "texts = []\n",
    "for doc in docs:\n",
    "    texts.append(doc.page_content)"
   ]
  },
  {
   "cell_type": "code",
   "execution_count": 12,
   "metadata": {},
   "outputs": [],
   "source": [
    "vectors=embeddings.embed_documents(texts)"
   ]
  },
  {
   "cell_type": "code",
   "execution_count": 13,
   "metadata": {},
   "outputs": [
    {
     "data": {
      "text/plain": [
       "(39, 1536)"
      ]
     },
     "execution_count": 13,
     "metadata": {},
     "output_type": "execute_result"
    }
   ],
   "source": [
    "len(vectors), len(vectors[0])"
   ]
  },
  {
   "cell_type": "code",
   "execution_count": 14,
   "metadata": {},
   "outputs": [
    {
     "name": "stderr",
     "output_type": "stream",
     "text": [
      "C:\\Users\\sjufa\\AppData\\Local\\Temp\\ipykernel_19596\\464683487.py:9: FutureWarning: The frame.append method is deprecated and will be removed from pandas in a future version. Use pandas.concat instead.\n",
      "  df = df.append(\n",
      "C:\\Users\\sjufa\\AppData\\Local\\Temp\\ipykernel_19596\\464683487.py:9: FutureWarning: The frame.append method is deprecated and will be removed from pandas in a future version. Use pandas.concat instead.\n",
      "  df = df.append(\n",
      "C:\\Users\\sjufa\\AppData\\Local\\Temp\\ipykernel_19596\\464683487.py:9: FutureWarning: The frame.append method is deprecated and will be removed from pandas in a future version. Use pandas.concat instead.\n",
      "  df = df.append(\n",
      "C:\\Users\\sjufa\\AppData\\Local\\Temp\\ipykernel_19596\\464683487.py:9: FutureWarning: The frame.append method is deprecated and will be removed from pandas in a future version. Use pandas.concat instead.\n",
      "  df = df.append(\n",
      "C:\\Users\\sjufa\\AppData\\Local\\Temp\\ipykernel_19596\\464683487.py:9: FutureWarning: The frame.append method is deprecated and will be removed from pandas in a future version. Use pandas.concat instead.\n",
      "  df = df.append(\n",
      "C:\\Users\\sjufa\\AppData\\Local\\Temp\\ipykernel_19596\\464683487.py:9: FutureWarning: The frame.append method is deprecated and will be removed from pandas in a future version. Use pandas.concat instead.\n",
      "  df = df.append(\n",
      "C:\\Users\\sjufa\\AppData\\Local\\Temp\\ipykernel_19596\\464683487.py:9: FutureWarning: The frame.append method is deprecated and will be removed from pandas in a future version. Use pandas.concat instead.\n",
      "  df = df.append(\n",
      "C:\\Users\\sjufa\\AppData\\Local\\Temp\\ipykernel_19596\\464683487.py:9: FutureWarning: The frame.append method is deprecated and will be removed from pandas in a future version. Use pandas.concat instead.\n",
      "  df = df.append(\n",
      "C:\\Users\\sjufa\\AppData\\Local\\Temp\\ipykernel_19596\\464683487.py:9: FutureWarning: The frame.append method is deprecated and will be removed from pandas in a future version. Use pandas.concat instead.\n",
      "  df = df.append(\n",
      "C:\\Users\\sjufa\\AppData\\Local\\Temp\\ipykernel_19596\\464683487.py:9: FutureWarning: The frame.append method is deprecated and will be removed from pandas in a future version. Use pandas.concat instead.\n",
      "  df = df.append(\n",
      "C:\\Users\\sjufa\\AppData\\Local\\Temp\\ipykernel_19596\\464683487.py:9: FutureWarning: The frame.append method is deprecated and will be removed from pandas in a future version. Use pandas.concat instead.\n",
      "  df = df.append(\n",
      "C:\\Users\\sjufa\\AppData\\Local\\Temp\\ipykernel_19596\\464683487.py:9: FutureWarning: The frame.append method is deprecated and will be removed from pandas in a future version. Use pandas.concat instead.\n",
      "  df = df.append(\n",
      "C:\\Users\\sjufa\\AppData\\Local\\Temp\\ipykernel_19596\\464683487.py:9: FutureWarning: The frame.append method is deprecated and will be removed from pandas in a future version. Use pandas.concat instead.\n",
      "  df = df.append(\n",
      "C:\\Users\\sjufa\\AppData\\Local\\Temp\\ipykernel_19596\\464683487.py:9: FutureWarning: The frame.append method is deprecated and will be removed from pandas in a future version. Use pandas.concat instead.\n",
      "  df = df.append(\n",
      "C:\\Users\\sjufa\\AppData\\Local\\Temp\\ipykernel_19596\\464683487.py:9: FutureWarning: The frame.append method is deprecated and will be removed from pandas in a future version. Use pandas.concat instead.\n",
      "  df = df.append(\n",
      "C:\\Users\\sjufa\\AppData\\Local\\Temp\\ipykernel_19596\\464683487.py:9: FutureWarning: The frame.append method is deprecated and will be removed from pandas in a future version. Use pandas.concat instead.\n",
      "  df = df.append(\n",
      "C:\\Users\\sjufa\\AppData\\Local\\Temp\\ipykernel_19596\\464683487.py:9: FutureWarning: The frame.append method is deprecated and will be removed from pandas in a future version. Use pandas.concat instead.\n",
      "  df = df.append(\n",
      "C:\\Users\\sjufa\\AppData\\Local\\Temp\\ipykernel_19596\\464683487.py:9: FutureWarning: The frame.append method is deprecated and will be removed from pandas in a future version. Use pandas.concat instead.\n",
      "  df = df.append(\n",
      "C:\\Users\\sjufa\\AppData\\Local\\Temp\\ipykernel_19596\\464683487.py:9: FutureWarning: The frame.append method is deprecated and will be removed from pandas in a future version. Use pandas.concat instead.\n",
      "  df = df.append(\n",
      "C:\\Users\\sjufa\\AppData\\Local\\Temp\\ipykernel_19596\\464683487.py:9: FutureWarning: The frame.append method is deprecated and will be removed from pandas in a future version. Use pandas.concat instead.\n",
      "  df = df.append(\n",
      "C:\\Users\\sjufa\\AppData\\Local\\Temp\\ipykernel_19596\\464683487.py:9: FutureWarning: The frame.append method is deprecated and will be removed from pandas in a future version. Use pandas.concat instead.\n",
      "  df = df.append(\n",
      "C:\\Users\\sjufa\\AppData\\Local\\Temp\\ipykernel_19596\\464683487.py:9: FutureWarning: The frame.append method is deprecated and will be removed from pandas in a future version. Use pandas.concat instead.\n",
      "  df = df.append(\n",
      "C:\\Users\\sjufa\\AppData\\Local\\Temp\\ipykernel_19596\\464683487.py:9: FutureWarning: The frame.append method is deprecated and will be removed from pandas in a future version. Use pandas.concat instead.\n",
      "  df = df.append(\n",
      "C:\\Users\\sjufa\\AppData\\Local\\Temp\\ipykernel_19596\\464683487.py:9: FutureWarning: The frame.append method is deprecated and will be removed from pandas in a future version. Use pandas.concat instead.\n",
      "  df = df.append(\n",
      "C:\\Users\\sjufa\\AppData\\Local\\Temp\\ipykernel_19596\\464683487.py:9: FutureWarning: The frame.append method is deprecated and will be removed from pandas in a future version. Use pandas.concat instead.\n",
      "  df = df.append(\n",
      "C:\\Users\\sjufa\\AppData\\Local\\Temp\\ipykernel_19596\\464683487.py:9: FutureWarning: The frame.append method is deprecated and will be removed from pandas in a future version. Use pandas.concat instead.\n",
      "  df = df.append(\n",
      "C:\\Users\\sjufa\\AppData\\Local\\Temp\\ipykernel_19596\\464683487.py:9: FutureWarning: The frame.append method is deprecated and will be removed from pandas in a future version. Use pandas.concat instead.\n",
      "  df = df.append(\n",
      "C:\\Users\\sjufa\\AppData\\Local\\Temp\\ipykernel_19596\\464683487.py:9: FutureWarning: The frame.append method is deprecated and will be removed from pandas in a future version. Use pandas.concat instead.\n",
      "  df = df.append(\n",
      "C:\\Users\\sjufa\\AppData\\Local\\Temp\\ipykernel_19596\\464683487.py:9: FutureWarning: The frame.append method is deprecated and will be removed from pandas in a future version. Use pandas.concat instead.\n",
      "  df = df.append(\n",
      "C:\\Users\\sjufa\\AppData\\Local\\Temp\\ipykernel_19596\\464683487.py:9: FutureWarning: The frame.append method is deprecated and will be removed from pandas in a future version. Use pandas.concat instead.\n",
      "  df = df.append(\n",
      "C:\\Users\\sjufa\\AppData\\Local\\Temp\\ipykernel_19596\\464683487.py:9: FutureWarning: The frame.append method is deprecated and will be removed from pandas in a future version. Use pandas.concat instead.\n",
      "  df = df.append(\n",
      "C:\\Users\\sjufa\\AppData\\Local\\Temp\\ipykernel_19596\\464683487.py:9: FutureWarning: The frame.append method is deprecated and will be removed from pandas in a future version. Use pandas.concat instead.\n",
      "  df = df.append(\n",
      "C:\\Users\\sjufa\\AppData\\Local\\Temp\\ipykernel_19596\\464683487.py:9: FutureWarning: The frame.append method is deprecated and will be removed from pandas in a future version. Use pandas.concat instead.\n",
      "  df = df.append(\n",
      "C:\\Users\\sjufa\\AppData\\Local\\Temp\\ipykernel_19596\\464683487.py:9: FutureWarning: The frame.append method is deprecated and will be removed from pandas in a future version. Use pandas.concat instead.\n",
      "  df = df.append(\n",
      "C:\\Users\\sjufa\\AppData\\Local\\Temp\\ipykernel_19596\\464683487.py:9: FutureWarning: The frame.append method is deprecated and will be removed from pandas in a future version. Use pandas.concat instead.\n",
      "  df = df.append(\n",
      "C:\\Users\\sjufa\\AppData\\Local\\Temp\\ipykernel_19596\\464683487.py:9: FutureWarning: The frame.append method is deprecated and will be removed from pandas in a future version. Use pandas.concat instead.\n",
      "  df = df.append(\n",
      "C:\\Users\\sjufa\\AppData\\Local\\Temp\\ipykernel_19596\\464683487.py:9: FutureWarning: The frame.append method is deprecated and will be removed from pandas in a future version. Use pandas.concat instead.\n",
      "  df = df.append(\n",
      "C:\\Users\\sjufa\\AppData\\Local\\Temp\\ipykernel_19596\\464683487.py:9: FutureWarning: The frame.append method is deprecated and will be removed from pandas in a future version. Use pandas.concat instead.\n",
      "  df = df.append(\n",
      "C:\\Users\\sjufa\\AppData\\Local\\Temp\\ipykernel_19596\\464683487.py:9: FutureWarning: The frame.append method is deprecated and will be removed from pandas in a future version. Use pandas.concat instead.\n",
      "  df = df.append(\n"
     ]
    }
   ],
   "source": [
    "# Create a new dataframe from the doc data\n",
    "import pandas as pd\n",
    "\n",
    "# Set the columns to \"text\", \"id\", \"metadata\"\n",
    "df = pd.DataFrame(columns=[\"values\", \"id\", \"metadata\"])\n",
    "\n",
    "# Loop through the docs and set the values for each column\n",
    "for i, doc in enumerate(docs):\n",
    "    df = df.append(\n",
    "        {\n",
    "            \"values\": vectors[i],\n",
    "            \"id\": doc.metadata[\"id\"],\n",
    "            \"metadata\": doc.metadata,\n",
    "        },\n",
    "        ignore_index=True,\n",
    "    )"
   ]
  },
  {
   "cell_type": "code",
   "execution_count": 15,
   "metadata": {},
   "outputs": [],
   "source": [
    "# Create a dictionary of the dataframe\n",
    "data = df.to_dict(orient=\"records\")\n",
    "\n",
    "# Set the value of the text key to the texts list\n",
    "for i, doc in enumerate(data):\n",
    "    doc[\"metadata\"]['text'] = texts[i]\n",
    "\n",
    "    "
   ]
  },
  {
   "cell_type": "code",
   "execution_count": 16,
   "metadata": {},
   "outputs": [
    {
     "data": {
      "application/vnd.jupyter.widget-view+json": {
       "model_id": "f06793aa46c7407091aed8c7dfdaac05",
       "version_major": 2,
       "version_minor": 0
      },
      "text/plain": [
       "Upserted vectors:   0%|          | 0/39 [00:00<?, ?it/s]"
      ]
     },
     "metadata": {},
     "output_type": "display_data"
    },
    {
     "data": {
      "text/plain": [
       "upserted_count: 39"
      ]
     },
     "execution_count": 16,
     "metadata": {},
     "output_type": "execute_result"
    }
   ],
   "source": [
    "# Upsert the data to the Pinecone vector store\n",
    "index.upsert(vectors=data, batch_size=50)"
   ]
  },
  {
   "cell_type": "code",
   "execution_count": null,
   "metadata": {},
   "outputs": [],
   "source": []
  },
  {
   "cell_type": "code",
   "execution_count": 11,
   "metadata": {},
   "outputs": [
    {
     "data": {
      "application/vnd.jupyter.widget-view+json": {
       "model_id": "1361fc63a8244c7fa7b6ae358801a2fd",
       "version_major": 2,
       "version_minor": 0
      },
      "text/plain": [
       "sending upsert requests:   0%|          | 0/5910 [00:00<?, ?it/s]"
      ]
     },
     "metadata": {},
     "output_type": "display_data"
    },
    {
     "data": {
      "application/vnd.jupyter.widget-view+json": {
       "model_id": "ded16a0199954a569efe2b897fbe673f",
       "version_major": 2,
       "version_minor": 0
      },
      "text/plain": [
       "collecting async responses:   0%|          | 0/119 [00:00<?, ?it/s]"
      ]
     },
     "metadata": {},
     "output_type": "display_data"
    },
    {
     "data": {
      "text/plain": [
       "upserted_count: 5910"
      ]
     },
     "execution_count": 11,
     "metadata": {},
     "output_type": "execute_result"
    }
   ],
   "source": [
    "index.upsert_from_dataframe(df, batch_size=50)"
   ]
  },
  {
   "cell_type": "code",
   "execution_count": 23,
   "metadata": {},
   "outputs": [
    {
     "data": {
      "text/plain": [
       "{'dimension': 1536,\n",
       " 'index_fullness': 0.1,\n",
       " 'namespaces': {'': {'vector_count': 5910}},\n",
       " 'total_vector_count': 5910}"
      ]
     },
     "execution_count": 23,
     "metadata": {},
     "output_type": "execute_result"
    }
   ],
   "source": [
    "index.describe_index_stats()"
   ]
  },
  {
   "cell_type": "code",
   "execution_count": 24,
   "metadata": {},
   "outputs": [],
   "source": [
    "vectorstore = Pinecone.from_existing_index(index_name=\"dave-code\", embedding = embeddings, text_key=\"text\")"
   ]
  },
  {
   "cell_type": "code",
   "execution_count": 25,
   "metadata": {},
   "outputs": [
    {
     "name": "stderr",
     "output_type": "stream",
     "text": [
      "Retrying langchain.embeddings.openai.embed_with_retry.<locals>._embed_with_retry in 4.0 seconds as it raised APIConnectionError: Error communicating with OpenAI: ('Connection aborted.', ConnectionResetError(10054, 'An existing connection was forcibly closed by the remote host', None, 10054, None)).\n"
     ]
    },
    {
     "data": {
      "text/plain": [
       "[Document(page_content='entities = generation_resp[\"entities\"]\\n                self.mlflg.html(dependency_tree, \"dep-\" + hash_string(generation.text))\\n                self.mlflg.html(entities, \"ent-\" + hash_string(generation.text))', metadata={'id': 'Langchain_752', 'repo': 'Langchain', 'source': './langchain/test_repo1/langchain\\\\callbacks\\\\mlflow_callback.py', 'type': 'Github Repo'}),\n",
       " Document(page_content='return \"\"', metadata={'id': 'Langchain_1981', 'repo': 'Langchain', 'source': './langchain/test_repo1/langchain\\\\document_loaders\\\\notebook.py', 'type': 'Github Repo'}),\n",
       " Document(page_content='}\\n        )', metadata={'id': 'Langchain_4654', 'repo': 'Langchain', 'source': './langchain/test_repo1/langchain\\\\vectorstores\\\\vectara.py', 'type': 'Github Repo'}),\n",
       " Document(page_content='`argilla.apikey` will be used.', metadata={'id': 'Langchain_582', 'repo': 'Langchain', 'source': './langchain/test_repo1/langchain\\\\callbacks\\\\argilla_callback.py', 'type': 'Github Repo'}),\n",
       " Document(page_content='def get_llm_kwargs(function: dict) -> dict:\\n    return {\"functions\": [function], \"function_call\": {\"name\": function[\"name\"]}}', metadata={'id': 'Langchain_1308', 'repo': 'Langchain', 'source': './langchain/test_repo1/langchain\\\\chains\\\\openai_functions\\\\utils.py', 'type': 'Github Repo'})]"
      ]
     },
     "execution_count": 25,
     "metadata": {},
     "output_type": "execute_result"
    }
   ],
   "source": [
    "query = \"what does the generate_cocktail function do?\"\n",
    "\n",
    "vectorstore.similarity_search(query, k=5)"
   ]
  },
  {
   "cell_type": "code",
   "execution_count": null,
   "metadata": {},
   "outputs": [],
   "source": []
  }
 ],
 "metadata": {
  "kernelspec": {
   "display_name": "py39",
   "language": "python",
   "name": "python3"
  },
  "language_info": {
   "codemirror_mode": {
    "name": "ipython",
    "version": 3
   },
   "file_extension": ".py",
   "mimetype": "text/x-python",
   "name": "python",
   "nbconvert_exporter": "python",
   "pygments_lexer": "ipython3",
   "version": "3.9.15"
  },
  "orig_nbformat": 4
 },
 "nbformat": 4,
 "nbformat_minor": 2
}
