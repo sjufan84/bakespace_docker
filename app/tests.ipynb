{
 "cells": [
  {
   "cell_type": "code",
   "execution_count": 9,
   "metadata": {},
   "outputs": [
    {
     "name": "stdout",
     "output_type": "stream",
     "text": [
      "{\"session_id\":\"b2210d32-c8d7-41e0-b563-dff7db61b101\",\"chat_history\":[],\"chef_type\":\"home_cook\",\"thread_id\":null}\n"
     ]
    }
   ],
   "source": [
    "import requests \n",
    "import json\n",
    "import uuid\n",
    "\n",
    "base_url = \"http://localhost:8000/\"\n",
    "status_call_url = base_url + \"status_call\"\n",
    "\n",
    "query_params = {\"session_id\" : str(uuid.uuid4())}\n",
    "\n",
    "response = requests.get(status_call_url, params=query_params)\n",
    "\n",
    "print(response.text)"
   ]
  },
  {
   "cell_type": "code",
   "execution_count": 6,
   "metadata": {},
   "outputs": [],
   "source": [
    "clear_chat_url = base_url + \"clear_chat_history\"\n",
    "\n",
    "response = requests.post(clear_chat_url, params=query_params)"
   ]
  },
  {
   "cell_type": "code",
   "execution_count": 7,
   "metadata": {},
   "outputs": [
    {
     "data": {
      "text/plain": [
       "'{\"message\":\"Chat history cleared\",\"session_id\":\"64c7a936-23d6-5600-f8ba-975e500f23f0\",\"chat_history\":[],\"thread_id\":null}'"
      ]
     },
     "execution_count": 7,
     "metadata": {},
     "output_type": "execute_result"
    }
   ],
   "source": [
    "response.text"
   ]
  },
  {
   "cell_type": "code",
   "execution_count": 10,
   "metadata": {},
   "outputs": [],
   "source": [
    "initialize_chat_url = base_url + \"initialize_general_chat\"\n",
    "\n",
    "query_params = {\"session_id\" : \"b2210d32-c8d7-41e0-b563-dff7db61b101\"}\n",
    "payload = {\"message_content\" : \"The user would like to ask questions about food\",\n",
    "\"chef_type\" : \"home_cook\",\n",
    "\"message_metadata\" : {},\n",
    "\"serving_size\" : \"\"\n",
    "}\n",
    "\n",
    "response = requests.post(initialize_chat_url, params=query_params, json=payload)"
   ]
  },
  {
   "cell_type": "code",
   "execution_count": 11,
   "metadata": {},
   "outputs": [],
   "source": [
    "response_json = json.loads(response.text)"
   ]
  },
  {
   "cell_type": "code",
   "execution_count": 12,
   "metadata": {},
   "outputs": [
    {
     "data": {
      "text/plain": [
       "{'thread_id': 'thread_DQQPsfG6M3YFrmWpMKSUnCkb',\n",
       " 'message_content': 'The context for this chat thread is The user would like to ask questions about food',\n",
       " 'chat_history': [{'role': 'user',\n",
       "   'content': 'The user would like to ask questions about food'}],\n",
       " 'session_id': 'b2210d32-c8d7-41e0-b563-dff7db61b101'}"
      ]
     },
     "execution_count": 12,
     "metadata": {},
     "output_type": "execute_result"
    }
   ],
   "source": [
    "response_json"
   ]
  },
  {
   "cell_type": "code",
   "execution_count": 13,
   "metadata": {},
   "outputs": [],
   "source": [
    "thread_id = response_json[\"thread_id\"]\n",
    "\n",
    "get_response_url = base_url + \"get_chef_response\"\n",
    "\n",
    "payload = {\"thread_id\" : thread_id,\n",
    "\"message_content\" : \"Awesome!  And how about a recipe for bbq pork sliders?\",\n",
    "\"message_metadata\" : {},\n",
    "\"serving_size\" : \"Family-Size\",\n",
    "\"chef_type\" : \"home_cook\"\n",
    "}\n",
    "\n",
    "response = requests.post(get_response_url, params=query_params, json=payload)\n"
   ]
  },
  {
   "cell_type": "code",
   "execution_count": null,
   "metadata": {},
   "outputs": [],
   "source": [
    "curl -X POST \"http://localhost:8000/initialize_general_chat\" \\\n",
    "     -H \"Content-Type: application/json\" \\\n",
    "     -H \"session_id: test1234\" \\\n",
    "     -d '{\n",
    "           \"message_content\": \"I'm interested in learning about Italian cuisine\",\n",
    "           \"message_metadata\": {},\n",
    "           \"chef_type\": \"home_cook\",\n",
    "           \"serving_size\": \"family-size\"\n",
    "          }'\n",
    "\n"
   ]
  },
  {
   "cell_type": "code",
   "execution_count": 1,
   "metadata": {},
   "outputs": [
    {
     "name": "stdout",
     "output_type": "stream",
     "text": [
      "200\n",
      "{\"thread_id\":\"thread_TS1JlYXbwWVNcwBaRYWT9aKD\",\"message_content\":\"The context for this chat thread is I'm interested in learning about Italian cuisine Serving size: family-size\",\"chat_history\":[{\"role\":\"user\",\"content\":\"I'm interested in learning about Italian cuisine\"}],\"session_id\":\"test1234\"}\n"
     ]
    }
   ],
   "source": [
    "import requests\n",
    "import json\n",
    "\n",
    "url = \"http://localhost:8000/initialize_general_chat\"\n",
    "headers = {\n",
    "    \"Content-Type\": \"application/json\",\n",
    "    \"session_id\": \"test1234\",\n",
    "}\n",
    "data = {\n",
    "    \"message_content\": \"I'm interested in learning about Italian cuisine\",\n",
    "    \"message_metadata\": {},\n",
    "    \"chef_type\": \"home_cook\",\n",
    "    \"serving_size\": \"family-size\",\n",
    "}\n",
    "\n",
    "response = requests.post(url, headers=headers, data=json.dumps(data))\n",
    "\n",
    "print(response.status_code)\n",
    "print(response.text)"
   ]
  },
  {
   "cell_type": "code",
   "execution_count": 14,
   "metadata": {},
   "outputs": [
    {
     "data": {
      "text/plain": [
       "<Response [200]>"
      ]
     },
     "execution_count": 14,
     "metadata": {},
     "output_type": "execute_result"
    }
   ],
   "source": [
    "response"
   ]
  },
  {
   "cell_type": "code",
   "execution_count": 15,
   "metadata": {},
   "outputs": [
    {
     "data": {
      "text/plain": [
       "{'thread_id': 'thread_DQQPsfG6M3YFrmWpMKSUnCkb',\n",
       " 'message': \"Here's a fantastic recipe for Honey BBQ Pulled Pork Sliders that's perfect for a family-size serving:\\n\\n**Ingredients:**\\n- 1 1/2 lbs pork shoulder, trimmed of excess fat\\n- 1 cup BBQ sauce\\n- 1/4 cup honey\\n- 1/2 cup chicken broth\\n- 1 tsp garlic powder\\n- 1 tsp onion powder\\n- 1/2 tsp smoked paprika\\n- 1/2 tsp salt\\n- 1/4 tsp black pepper\\n- 8 slider buns\\n- 1/2 cup coleslaw (optional, for serving)\\n\\n**Directions:**\\n1. In a slow cooker, combine the pork shoulder, BBQ sauce, honey, chicken broth, garlic powder, onion powder, smoked paprika, salt, and black pepper.\\n2. Cover and cook on low for 6-8 hours, or until the pork is very tender and easy to shred with a fork.\\n3. Once the pork is done, remove it from the slow cooker and shred it using two forks. Return the shredded pork to the slow cooker and stir to coat it with the sauce.\\n4. Assemble the sliders by placing a generous amount of the pulled pork onto the bottom half of each slider bun. Top with coleslaw if desired, then cover with the top half of the bun.\\n5. Serve the sliders immediately and enjoy!\\n\\n**Prep Time:** 15 minutes\\n**Cook Time:** 6 hours\\n**Serving Size:** 4\\n**Calories:** 450 per serving\\n\\n**Fun Fact:** Pulled pork is a classic Southern BBQ dish that originated in the United States. It is typically made by slow-cooking pork shoulder until it is tender enough to be easily shredded.\\n\\nIf you have any questions about the recipe or need further assistance, feel free to ask!\",\n",
       " 'run_id': 'run_rmE4vvr7LHNGVrsiVo7qkJNc',\n",
       " 'tool_return_values': [{'tool_name': 'create_recipe',\n",
       "   'output': '{\\n    \"recipe_name\": \"Honey BBQ Pulled Pork Sliders\",\\n    \"ingredients\": [\\n        \"1 1/2 lbs pork shoulder, trimmed of excess fat\",\\n        \"1 cup BBQ sauce\",\\n        \"1/4 cup honey\",\\n        \"1/2 cup chicken broth\",\\n        \"1 tsp garlic powder\",\\n        \"1 tsp onion powder\",\\n        \"1/2 tsp smoked paprika\",\\n        \"1/2 tsp salt\",\\n        \"1/4 tsp black pepper\",\\n        \"8 slider buns\",\\n        \"1/2 cup coleslaw (optional, for serving)\"\\n    ],\\n    \"directions\": [\\n        \"In a slow cooker, combine the pork shoulder, BBQ sauce, honey, chicken broth, garlic powder, onion powder, smoked paprika, salt, and black pepper.\",\\n        \"Cover and cook on low for 6-8 hours, or until the pork is very tender and easy to shred with a fork.\",\\n        \"Once the pork is done, remove it from the slow cooker and shred it using two forks. Return the shredded pork to the slow cooker and stir to coat it with the sauce.\",\\n        \"Assemble the sliders by placing a generous amount of the pulled pork onto the bottom half of each slider bun. Top with coleslaw if desired, then cover with the top half of the bun.\",\\n        \"Serve the sliders immediately and enjoy!\"\\n    ],\\n    \"prep_time\": 15,\\n    \"cook_time\": 360,\\n    \"serving_size\": 4,\\n    \"calories\": 450,\\n    \"fun_fact\": \"Pulled pork is a classic Southern BBQ dish that originated in the United States. It is typically made by slow-cooking pork shoulder until it is tender enough to be easily shredded.\"\\n}'}]}"
      ]
     },
     "execution_count": 15,
     "metadata": {},
     "output_type": "execute_result"
    }
   ],
   "source": [
    "response_json = json.loads(response.text)\n",
    "\n",
    "response_json"
   ]
  },
  {
   "cell_type": "code",
   "execution_count": null,
   "metadata": {},
   "outputs": [],
   "source": []
  },
  {
   "cell_type": "code",
   "execution_count": null,
   "metadata": {},
   "outputs": [],
   "source": []
  }
 ],
 "metadata": {
  "kernelspec": {
   "display_name": "bakespace",
   "language": "python",
   "name": "python3"
  },
  "language_info": {
   "codemirror_mode": {
    "name": "ipython",
    "version": 3
   },
   "file_extension": ".py",
   "mimetype": "text/x-python",
   "name": "python",
   "nbconvert_exporter": "python",
   "pygments_lexer": "ipython3",
   "version": "3.10.13"
  }
 },
 "nbformat": 4,
 "nbformat_minor": 2
}
