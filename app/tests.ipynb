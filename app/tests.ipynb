{
 "cells": [
  {
   "cell_type": "code",
   "execution_count": 1,
   "metadata": {},
   "outputs": [
    {
     "name": "stdout",
     "output_type": "stream",
     "text": [
      "{\"session_id\":\"123454\",\"chat_history\":\"[]\",\"chef_type\":\"home_cook\",\"thread_id\":\"thread_aV1GSE5yQ6JqB52wBpwavBB3\"}\n"
     ]
    }
   ],
   "source": [
    "import requests \n",
    "import json\n",
    "\n",
    "base_url = \"http://localhost:8000/\"\n",
    "status_call_url = base_url + \"status_call\"\n",
    "\n",
    "query_params = {\"session_id\" : \"123454\"}\n",
    "\n",
    "response = requests.get(status_call_url, params=query_params)\n",
    "\n",
    "print(response.text)"
   ]
  },
  {
   "cell_type": "code",
   "execution_count": 2,
   "metadata": {},
   "outputs": [],
   "source": [
    "initialize_chat_url = base_url + \"initialize_general_chat\"\n",
    "\n",
    "query_params = {\"session_id\" : \"123454\"}\n",
    "\n",
    "payload = {\"message_content\" : \"The user would like to ask questions about food\",\n",
    "\"chef_type\" : \"home_cook\",\n",
    "\"message_metadata\" : {},\n",
    "\"serving_size\" : \"\"\n",
    "}\n",
    "\n",
    "response = requests.post(initialize_chat_url, params=query_params, json=payload)"
   ]
  },
  {
   "cell_type": "code",
   "execution_count": 3,
   "metadata": {},
   "outputs": [],
   "source": [
    "response_json = json.loads(response.text)"
   ]
  },
  {
   "cell_type": "code",
   "execution_count": 4,
   "metadata": {},
   "outputs": [
    {
     "data": {
      "text/plain": [
       "{'thread_id': 'thread_knvzEy0k96pXERIOdnioIvCP',\n",
       " 'message_content': 'The context for this chat thread is The user would like to ask questions about food',\n",
       " 'chat_history': [{'role': 'user',\n",
       "   'content': 'The user would like to ask questions about food'}]}"
      ]
     },
     "execution_count": 4,
     "metadata": {},
     "output_type": "execute_result"
    }
   ],
   "source": [
    "response_json"
   ]
  },
  {
   "cell_type": "code",
   "execution_count": 5,
   "metadata": {},
   "outputs": [],
   "source": [
    "thread_id = response_json[\"thread_id\"]\n",
    "\n",
    "get_response_url = base_url + \"get_chef_response\"\n",
    "\n",
    "query_params = {\"session_id\" : \"123454\"}\n",
    "\n",
    "payload = {\"thread_id\" : thread_id,\n",
    "\"message_content\" : \"Can I get a recipe for orange peel chicken for a family?\",\n",
    "\"message_metadata\" : {},\n",
    "\"serving_size\" : \"Family-Size\",\n",
    "\"chef_type\" : \"home_cook\"\n",
    "}\n",
    "\n",
    "response = requests.post(get_response_url, params=query_params, json=payload)\n"
   ]
  },
  {
   "cell_type": "code",
   "execution_count": 6,
   "metadata": {},
   "outputs": [
    {
     "data": {
      "text/plain": [
       "<Response [200]>"
      ]
     },
     "execution_count": 6,
     "metadata": {},
     "output_type": "execute_result"
    }
   ],
   "source": [
    "response"
   ]
  },
  {
   "cell_type": "code",
   "execution_count": 7,
   "metadata": {},
   "outputs": [
    {
     "data": {
      "text/plain": [
       "{'thread_id': 'thread_knvzEy0k96pXERIOdnioIvCP',\n",
       " 'message': \"Absolutely! Orange peel chicken is a delicious, crowd-pleasing dish that's perfect for sharing with the whole family. Here's a simple recipe for you:\\n\\nOrange Peel Chicken\\n\\nIngredients:\\n- 4 boneless, skinless chicken breasts, cut into bite-sized pieces\\n- 1 cup cornstarch\\n- Salt and pepper, to taste\\n- 2 tablespoons vegetable oil\\n- 1 cup orange juice\\n- 1/2 cup low-sodium soy sauce\\n- 1/3 cup brown sugar\\n- 3 cloves garlic, minced\\n- 1 tablespoon grated fresh ginger\\n- 2 tablespoons orange zest\\n- Sliced green onions and sesame seeds for garnish\\n- Cooked white or brown rice, for serving\\n\\nDirections:\\n1. In a large resealable plastic bag, combine the chicken pieces, cornstarch, salt, and pepper. Seal the bag and shake until the chicken is well coated.\\n\\n2. In a large skillet or wok, heat the vegetable oil over medium-high heat. Add the coated chicken pieces and cook until golden brown and cooked through, about 5-6 minutes. Remove the chicken from the skillet and set aside.\\n\\n3. In the same skillet, add the orange juice, soy sauce, brown sugar, garlic, ginger, and orange zest. Bring the mixture to a simmer and cook for 5-7 minutes, or until the sauce has thickened slightly.\\n\\n4. Return the cooked chicken to the skillet and toss to coat with the orange sauce.\\n\\n5. Garnish with sliced green onions and sesame seeds.\\n\\n6. Serve the orange peel chicken over cooked rice and enjoy with the family!\\n\\nPrep time: 15 minutes\\nCook time: 15 minutes\\nServing size: 4-6 servings\\nCalories: Approximately 350 calories per serving\\n\\nFun fact: The dish gets its name from the use of fresh orange peel, which adds a lovely citrus aroma and flavor to the chicken.\\n\\nLet me know if you need any more assistance or if you'd like to take a crack at it!\",\n",
       " 'run_id': 'run_umlz8Rd3pYZKKHBMqWvSvwfC',\n",
       " 'tool_return_values': []}"
      ]
     },
     "execution_count": 7,
     "metadata": {},
     "output_type": "execute_result"
    }
   ],
   "source": [
    "response_json = json.loads(response.text)\n",
    "\n",
    "response_json"
   ]
  },
  {
   "cell_type": "code",
   "execution_count": null,
   "metadata": {},
   "outputs": [],
   "source": []
  },
  {
   "cell_type": "code",
   "execution_count": null,
   "metadata": {},
   "outputs": [],
   "source": []
  }
 ],
 "metadata": {
  "kernelspec": {
   "display_name": "bakespace",
   "language": "python",
   "name": "python3"
  },
  "language_info": {
   "codemirror_mode": {
    "name": "ipython",
    "version": 3
   },
   "file_extension": ".py",
   "mimetype": "text/x-python",
   "name": "python",
   "nbconvert_exporter": "python",
   "pygments_lexer": "ipython3",
   "version": "3.10.13"
  }
 },
 "nbformat": 4,
 "nbformat_minor": 2
}
