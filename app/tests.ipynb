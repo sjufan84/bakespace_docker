{
 "cells": [
  {
   "cell_type": "code",
   "execution_count": 2,
   "metadata": {},
   "outputs": [
    {
     "name": "stdout",
     "output_type": "stream",
     "text": [
      "{\"session_id\":\"ff32886f-edfd-4617-b531-48b460a0f5bf\",\"chat_history\":[],\"chef_type\":\"home_cook\",\"thread_id\":null}\n"
     ]
    }
   ],
   "source": [
    "import requests \n",
    "import json\n",
    "import uuid\n",
    "\n",
    "base_url = \"http://localhost:8000/\"\n",
    "status_call_url = base_url + \"status_call\"\n",
    "\n",
    "query_params = {\"session_id\" : str(uuid.uuid4())}\n",
    "\n",
    "response = requests.get(status_call_url, params=query_params)\n",
    "\n",
    "print(response.text)"
   ]
  },
  {
   "cell_type": "code",
   "execution_count": 6,
   "metadata": {},
   "outputs": [],
   "source": [
    "clear_chat_url = base_url + \"clear_chat_history\"\n",
    "\n",
    "response = requests.post(clear_chat_url, params=query_params)"
   ]
  },
  {
   "cell_type": "code",
   "execution_count": 7,
   "metadata": {},
   "outputs": [
    {
     "data": {
      "text/plain": [
       "'{\"message\":\"Chat history cleared\",\"session_id\":\"64c7a936-23d6-5600-f8ba-975e500f23f0\",\"chat_history\":[],\"thread_id\":null}'"
      ]
     },
     "execution_count": 7,
     "metadata": {},
     "output_type": "execute_result"
    }
   ],
   "source": [
    "response.text"
   ]
  },
  {
   "cell_type": "code",
   "execution_count": 3,
   "metadata": {},
   "outputs": [],
   "source": [
    "initialize_chat_url = base_url + \"initialize_general_chat\"\n",
    "\n",
    "query_params = {\"session_id\" : \"ff32886f-edfd-4617-b531-48b460a0f5bf\"}\n",
    "payload = {\"message_content\" : \"The user would like to ask questions about food\",\n",
    "\"chef_type\" : \"home_cook\",\n",
    "\"message_metadata\" : {},\n",
    "\"serving_size\" : \"\"\n",
    "}\n",
    "\n",
    "response = requests.post(initialize_chat_url, params=query_params, json=payload)"
   ]
  },
  {
   "cell_type": "code",
   "execution_count": 4,
   "metadata": {},
   "outputs": [],
   "source": [
    "response_json = json.loads(response.text)"
   ]
  },
  {
   "cell_type": "code",
   "execution_count": 5,
   "metadata": {},
   "outputs": [
    {
     "data": {
      "text/plain": [
       "{'thread_id': 'thread_sqS8NCABXGbWYL0IIAG8QJbV',\n",
       " 'message_content': 'The context for this chat thread is The user would like to ask questions about food',\n",
       " 'chat_history': [{'role': 'user',\n",
       "   'content': 'The user would like to ask questions about food'}],\n",
       " 'session_id': 'ff32886f-edfd-4617-b531-48b460a0f5bf'}"
      ]
     },
     "execution_count": 5,
     "metadata": {},
     "output_type": "execute_result"
    }
   ],
   "source": [
    "response_json"
   ]
  },
  {
   "cell_type": "code",
   "execution_count": 6,
   "metadata": {},
   "outputs": [],
   "source": [
    "thread_id = response_json[\"thread_id\"]\n",
    "\n",
    "get_response_url = base_url + \"get_chef_response\"\n",
    "\n",
    "payload = {\"thread_id\" : thread_id,\n",
    "\"message_content\" : \"Awesome!  And how about a recipe for bbq pork sliders?\",\n",
    "\"message_metadata\" : {},\n",
    "\"serving_size\" : \"Family-Size\",\n",
    "\"chef_type\" : \"home_cook\"\n",
    "}\n",
    "\n",
    "response = requests.post(get_response_url, params=query_params, json=payload)\n"
   ]
  },
  {
   "cell_type": "code",
   "execution_count": 7,
   "metadata": {},
   "outputs": [
    {
     "data": {
      "text/plain": [
       "<Response [200]>"
      ]
     },
     "execution_count": 7,
     "metadata": {},
     "output_type": "execute_result"
    }
   ],
   "source": [
    "response"
   ]
  },
  {
   "cell_type": "code",
   "execution_count": 8,
   "metadata": {},
   "outputs": [
    {
     "data": {
      "text/plain": [
       "{'thread_id': 'thread_sqS8NCABXGbWYL0IIAG8QJbV',\n",
       " 'message': 'Here\\'s the recipe for \"Smoky BBQ Pork Sliders\" that\\'s perfect for a family-size serving:\\n\\n**Ingredients:**\\n- 1 pound pork shoulder, trimmed and cut into small chunks\\n- 1 cup BBQ sauce\\n- 1 teaspoon smoked paprika\\n- 1 teaspoon garlic powder\\n- 1/2 teaspoon onion powder\\n- 1/2 teaspoon salt\\n- 1/4 teaspoon black pepper\\n- 4 slider buns, split and lightly toasted\\n- Sliced red onion, for topping\\n- Pickle slices, for topping\\n\\n**Directions:**\\n1. In a slow cooker, combine the pork chunks, BBQ sauce, smoked paprika, garlic powder, onion powder, salt, and black pepper. Stir to coat the pork evenly with the sauce and spices.\\n2. Cover and cook on low for 6-8 hours or high for 3-4 hours, until the pork is tender and easily pulls apart with a fork.\\n3. Using two forks, shred the cooked pork in the slow cooker and mix it well with the remaining sauce.\\n4. To assemble the sliders, place a generous amount of the BBQ pork on the bottom half of each toasted slider bun. Top with sliced red onion and pickle slices, then cover with the top half of the bun.\\n5. Serve the smoky BBQ pork sliders with your favorite coleslaw or a side of crispy sweet potato fries.\\n6. Enjoy these delicious and flavorful sliders with friends and family!\\n\\n**Nutrition Facts (per serving):**\\n- Calories: 450\\n- Prep Time: 15 minutes\\n- Cook Time: 6 hours (slow cooker)\\n\\n**Fun Fact:** The term \"slider\" originated from the Navy\\'s reference to greasy burgers served on ships, which would \"slide\" right down.\\n\\nLet me know if you need any more help or have any questions!',\n",
       " 'run_id': 'run_uGbprk2PeC4W2ZkOeSr7BwM3',\n",
       " 'tool_return_values': [{'tool_name': 'create_recipe',\n",
       "   'output': '{\\n  \"recipe_name\": \"Smoky BBQ Pork Sliders\",\\n  \"ingredients\": [\\n    \"1 pound pork shoulder, trimmed and cut into small chunks\",\\n    \"1 cup BBQ sauce\",\\n    \"1 teaspoon smoked paprika\",\\n    \"1 teaspoon garlic powder\",\\n    \"1/2 teaspoon onion powder\",\\n    \"1/2 teaspoon salt\",\\n    \"1/4 teaspoon black pepper\",\\n    \"4 slider buns, split and lightly toasted\",\\n    \"Sliced red onion, for topping\",\\n    \"Pickle slices, for topping\"\\n  ],\\n  \"directions\": [\\n    \"In a slow cooker, combine the pork chunks, BBQ sauce, smoked paprika, garlic powder, onion powder, salt, and black pepper. Stir to coat the pork evenly with the sauce and spices.\",\\n    \"Cover and cook on low for 6-8 hours or high for 3-4 hours, until the pork is tender and easily pulls apart with a fork.\",\\n    \"Using two forks, shred the cooked pork in the slow cooker and mix it well with the remaining sauce.\",\\n    \"To assemble the sliders, place a generous amount of the BBQ pork on the bottom half of each toasted slider bun. Top with sliced red onion and pickle slices, then cover with the top half of the bun.\",\\n    \"Serve the smoky BBQ pork sliders with your favorite coleslaw or a side of crispy sweet potato fries.\",\\n    \"Enjoy these delicious and flavorful sliders with friends and family!\"\\n  ],\\n  \"prep_time\": 15,\\n  \"cook_time\": 360,\\n  \"serving_size\": 4,\\n  \"calories\": 450,\\n  \"fun_fact\": \"The term \\'slider\\' originated from the Navy\\'s reference to greasy burgers served on ships, which would \\'slide\\' right down.\" \\n}'}]}"
      ]
     },
     "execution_count": 8,
     "metadata": {},
     "output_type": "execute_result"
    }
   ],
   "source": [
    "response_json = json.loads(response.text)\n",
    "\n",
    "response_json"
   ]
  },
  {
   "cell_type": "code",
   "execution_count": null,
   "metadata": {},
   "outputs": [],
   "source": []
  },
  {
   "cell_type": "code",
   "execution_count": null,
   "metadata": {},
   "outputs": [],
   "source": []
  }
 ],
 "metadata": {
  "kernelspec": {
   "display_name": "bakespace",
   "language": "python",
   "name": "python3"
  },
  "language_info": {
   "codemirror_mode": {
    "name": "ipython",
    "version": 3
   },
   "file_extension": ".py",
   "mimetype": "text/x-python",
   "name": "python",
   "nbconvert_exporter": "python",
   "pygments_lexer": "ipython3",
   "version": "3.10.13"
  }
 },
 "nbformat": 4,
 "nbformat_minor": 2
}
