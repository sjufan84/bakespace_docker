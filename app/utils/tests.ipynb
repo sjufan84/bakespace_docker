{
 "cells": [
  {
   "cell_type": "code",
   "execution_count": 20,
   "metadata": {},
   "outputs": [],
   "source": [
    "import os\n",
    "from dotenv import load_dotenv\n",
    "from langchain.document_loaders.dataframe import DataFrameLoader\n",
    "import pandas as pd\n",
    "import pinecone      \n",
    "\n",
    "pinecone.init(      \n",
    "\tapi_key=os.getenv('PINECONE_API_KEY'),      \n",
    "\tenvironment='us-west4-gcp-free'      \n",
    ")      \n",
    "\n",
    "index = pinecone.Index('recipes')\n",
    "\n",
    "load_dotenv()\n",
    "\n",
    "api_key = os.getenv('OPENAI_API_KEY')\n",
    "pinecone_key = os.getenv('PINECONE_API_KEY')\n",
    "\n",
    "df = pd.read_csv('./recipes.csv')\n",
    "\n",
    "loader = DataFrameLoader(df, page_content_column = \"Title\")\n",
    "\n"
   ]
  },
  {
   "cell_type": "code",
   "execution_count": 21,
   "metadata": {},
   "outputs": [],
   "source": [
    "docs = loader.load_and_split()"
   ]
  },
  {
   "cell_type": "code",
   "execution_count": 22,
   "metadata": {},
   "outputs": [
    {
     "data": {
      "text/plain": [
       "0        ['1 (3½–4-lb.) whole chicken', '2¾ tsp. kosher...\n",
       "1        ['2 large egg whites', '1 pound new potatoes (...\n",
       "2        ['1 cup evaporated milk', '1 cup whole milk', ...\n",
       "3        ['1 (¾- to 1-pound) round Italian loaf, cut in...\n",
       "4        ['1 teaspoon dark brown sugar', '1 teaspoon ho...\n",
       "                               ...                        \n",
       "13496    ['1 cup all-purpose flour', '2/3 cup unsweeten...\n",
       "13497    ['1 preserved lemon', '1 1/2 pound butternut s...\n",
       "13498    ['Leftover katsuo bushi (dried bonito flakes) ...\n",
       "13499    ['1 stick (1/2 cup) plus 1 tablespoon unsalted...\n",
       "13500    ['12 medium to large fresh poblano chiles (2 1...\n",
       "Name: Ingredients, Length: 13501, dtype: object"
      ]
     },
     "execution_count": 22,
     "metadata": {},
     "output_type": "execute_result"
    }
   ],
   "source": [
    "df[\"Ingredients\"]"
   ]
  },
  {
   "cell_type": "code",
   "execution_count": 26,
   "metadata": {},
   "outputs": [],
   "source": [
    "# Create a new index\n",
    "from langchain.vectorstores import Pinecone\n",
    "from langchain.embeddings import OpenAIEmbeddings\n",
    "import time\n",
    "\n",
    "embeddings = OpenAIEmbeddings(api_key=api_key)\n",
    "\n",
    "# Batch by 1000 starting at 1000\n",
    "for i in range(1000, len(docs), 1000):\n",
    "    print(i)\n",
    "    docs = docs[i:i+1000]\n",
    "    search = Pinecone.from_documents(docs, embeddings, index_name = \"recipes\")\n",
    "    time.sleep(10)\n",
    "\n"
   ]
  },
  {
   "cell_type": "code",
   "execution_count": null,
   "metadata": {},
   "outputs": [],
   "source": []
  }
 ],
 "metadata": {
  "kernelspec": {
   "display_name": "bakespace",
   "language": "python",
   "name": "python3"
  },
  "language_info": {
   "codemirror_mode": {
    "name": "ipython",
    "version": 3
   },
   "file_extension": ".py",
   "mimetype": "text/x-python",
   "name": "python",
   "nbconvert_exporter": "python",
   "pygments_lexer": "ipython3",
   "version": "3.10.13"
  }
 },
 "nbformat": 4,
 "nbformat_minor": 2
}
